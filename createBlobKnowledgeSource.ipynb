{
 "cells": [
  {
   "cell_type": "markdown",
   "id": "e7b55d25",
   "metadata": {},
   "source": [
    "# Blob ナレッジソースの作成\n",
    "\n",
    "BLOB ナレッジ ソースは、Azure AI Search エージェントパイプラインでマルチモーダル Azure BLOB コンテンツのインデックス作成とクエリを実行するために必要なすべての情報を指定します。 これは個別に作成され、ナレッジエージェントによって参照され、エージェントまたはチャットボットが `retrieve` アクションを呼び出すときにクエリ時に使用されます。\n",
    "\n",
    "既存のインデックスと修飾されたインデックスを指定する 検索インデックスナレッジソースとは対照的に、BLOB ナレッジソースでは、外部データ ソース (BLOB コンテナー) と、エンリッチメント パイプライン全体の作成に使用されるモデルとプロパティが指定されます。\n",
    "\n",
    "- 生成されたデータ ソースは、BLOB コンテナーを指定します\n",
    "- 生成されたスキルセット チャンクとマルチモーダル コンテンツのベクトル化\n",
    "- 生成されたインデックスは、インデックス付きコンテンツを格納し、Agentic retrieval の条件を満たします\n",
    "- 生成されたインデクサーによって、インデックス作成とエンリッチメント パイプラインが駆動されます\n",
    "\n",
    "生成されたインデックスは、ナレッジエージェントによって使用されるコンテンツを提供します。\n",
    "\n",
    "\n",
    "https://learn.microsoft.com/ja-jp/azure/search/search-knowledge-source-how-to-blob"
   ]
  },
  {
   "cell_type": "code",
   "execution_count": null,
   "id": "5e2c6a14",
   "metadata": {},
   "outputs": [],
   "source": [
    "from azure.core.credentials import AzureKeyCredential\n",
    "from azure.search.documents.indexes import SearchIndexClient\n",
    "from azure.search.documents.indexes.models import (\n",
    "    AzureBlobKnowledgeSource,\n",
    "    AzureBlobKnowledgeSourceParameters,\n",
    "    AzureOpenAIVectorizerParameters,\n",
    "    AzureOpenAIVectorizer,\n",
    "    IndexingSchedule,\n",
    "    SearchResourceEncryptionKey,\n",
    "    KnowledgeAgentAzureOpenAIModel\n",
    ")\n",
    "import datetime\n",
    "import os\n",
    "from dotenv import load_dotenv\n",
    "\n",
    "load_dotenv()"
   ]
  },
  {
   "cell_type": "code",
   "execution_count": null,
   "id": "8c3bd381",
   "metadata": {},
   "outputs": [],
   "source": [
    "# 環境変数から設定を取得\n",
    "AZURE_OPENAI_ENDPOINT= os.getenv(\"AZURE_OPENAI_ENDPOINT\")\n",
    "AZURE_OPENAI_API_KEY= os.getenv(\"AZURE_OPENAI_API_KEY\")\n",
    "\n",
    "SEARCH_ENDPOINT = os.getenv(\"AZURE_SEARCH_ENDPOINT\")\n",
    "SEARCH_KEY = os.getenv(\"AZURE_SEARCH_KEY\")\n",
    "# OPENAI_ENDPOINT = os.getenv(\"OPENAI_ENDPOINT\")\n",
    "# OPENAI_KEY = os.getenv(\"OPENAI_KEY\")\n",
    "\n",
    "# Azure Blob Storage の接続文字列\n",
    "CONNECTION_STRING = \"DefaultEndpointsProtocol=\""
   ]
  },
  {
   "cell_type": "code",
   "execution_count": null,
   "id": "bc5f838f",
   "metadata": {},
   "outputs": [],
   "source": [
    "search_api_version = \"2025-08-01-preview\"  # 11.7.0b1で使用される新しいAPIバージョン\n",
    "\n",
    "# SearchIndexClientの初期化\n",
    "search_client = SearchIndexClient(\n",
    "    endpoint=SEARCH_ENDPOINT,\n",
    "    credential=AzureKeyCredential(SEARCH_KEY),\n",
    "    api_version=search_api_version\n",
    ")"
   ]
  },
  {
   "cell_type": "code",
   "execution_count": null,
   "id": "d3c2ae8c",
   "metadata": {},
   "outputs": [],
   "source": [
    "# Azure OpenAI Embedding Modelの設定\n",
    "embedding_model = AzureOpenAIVectorizer(\n",
    "    vectorizer_name=\"text-embedding-vectorizer\",\n",
    "    parameters=AzureOpenAIVectorizerParameters(\n",
    "        resource_url=AZURE_OPENAI_ENDPOINT,\n",
    "        deployment_name=\"text-embedding-3-small\",\n",
    "        api_key=AZURE_OPENAI_API_KEY,\n",
    "        model_name=\"text-embedding-3-small\",\n",
    "        auth_identity=None\n",
    "    )\n",
    ")\n",
    "\n",
    "# Chat Completion Modelの設定（修正版）\n",
    "chat_completion_model = KnowledgeAgentAzureOpenAIModel(\n",
    "    azure_open_ai_parameters=AzureOpenAIVectorizerParameters(\n",
    "        resource_url=AZURE_OPENAI_ENDPOINT, \n",
    "        deployment_name=\"gpt-4.1-mini\", \n",
    "        api_key=AZURE_OPENAI_API_KEY,\n",
    "        model_name=\"gpt-4.1-mini\", \n",
    "        auth_identity=None\n",
    "    )\n",
    ")\n",
    "\n",
    "# Ingestion Scheduleの設定\n",
    "ingestion_schedule = IndexingSchedule(\n",
    "    interval=\"P1D\",  # 1日間隔\n",
    "    start_time=datetime.datetime(2025, 9, 8, 0, 0, 0, tzinfo=datetime.timezone.utc)\n",
    ")\n"
   ]
  },
  {
   "cell_type": "code",
   "execution_count": null,
   "id": "5278d6f6",
   "metadata": {},
   "outputs": [],
   "source": [
    "\n",
    "# Azure Blob Knowledge Source Parametersの設定\n",
    "azure_blob_parameters = AzureBlobKnowledgeSourceParameters(\n",
    "    connection_string=CONNECTION_STRING,\n",
    "    container_name=\"docs1\",\n",
    "    folder_path=None,\n",
    "    disable_image_verbalization=None,\n",
    "    identity=None,\n",
    "    embedding_model=embedding_model,\n",
    "    chat_completion_model=chat_completion_model,\n",
    "    ingestion_schedule=ingestion_schedule\n",
    ")\n",
    "\n",
    "# Azure Blob Knowledge Sourceの作成\n",
    "knowledge_source = AzureBlobKnowledgeSource(\n",
    "    name=\"your-blob-ks\",\n",
    "    description=\"このナレッジソースは、・・・のPDFページを含むBlobストレージコンテナから取得されます。\",\n",
    "    azure_blob_parameters=azure_blob_parameters,\n",
    "    e_tag=None,\n",
    "    encryption_key=None\n",
    ")\n"
   ]
  },
  {
   "cell_type": "code",
   "execution_count": null,
   "id": "da442eb0",
   "metadata": {},
   "outputs": [],
   "source": [
    "\n",
    "try:\n",
    "    # Knowledge Sourceの作成（PUT操作）\n",
    "    created_knowledge_source = search_client.create_or_update_knowledge_source(knowledge_source)\n",
    "    print(f\"Knowledge Source '{created_knowledge_source.name}' が正常に作成/更新されました\")\n",
    "    print(f\"Kind: {created_knowledge_source.kind}\")\n",
    "    print(f\"Description: {created_knowledge_source.description}\")\n",
    "    print(f\"Container: {created_knowledge_source.azure_blob_parameters.container_name}\")\n",
    "    \n",
    "    if created_knowledge_source.azure_blob_parameters.ingestion_schedule:\n",
    "        print(f\"Ingestion Schedule: {created_knowledge_source.azure_blob_parameters.ingestion_schedule.interval}\")\n",
    "        print(f\"Start Time: {created_knowledge_source.azure_blob_parameters.ingestion_schedule.start_time}\")\n",
    "    \n",
    "except Exception as e:\n",
    "    print(f\"Knowledge Source の作成中にエラーが発生しました: {e}\")\n",
    "    print(f\"エラーの種類: {type(e).__name__}\")"
   ]
  }
 ],
 "metadata": {
  "kernelspec": {
   "display_name": "autogen061",
   "language": "python",
   "name": "python3"
  },
  "language_info": {
   "codemirror_mode": {
    "name": "ipython",
    "version": 3
   },
   "file_extension": ".py",
   "mimetype": "text/x-python",
   "name": "python",
   "nbconvert_exporter": "python",
   "pygments_lexer": "ipython3",
   "version": "3.11.13"
  }
 },
 "nbformat": 4,
 "nbformat_minor": 5
}
