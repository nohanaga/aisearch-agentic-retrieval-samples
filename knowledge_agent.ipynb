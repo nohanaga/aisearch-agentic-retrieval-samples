{
 "cells": [
  {
   "cell_type": "markdown",
   "id": "6a52a16f",
   "metadata": {},
   "source": [
    "# ナレッジソースの作成とナレッジエージェントの実行\n",
    "\n",
    "Azure AI Search の新機能 Agentic retrieval では、新しくナレッジソースを追加できるようになり、LLM が検索対象のインデックスを自律的に選べるようになりました。さらに、LLM を活用した回答合成機能も利用できるようになっています。これにより、エージェントは複数のインデックスにまたがって情報をグラウンディングし、引用付きの回答を生成できるようになりました。\n",
    "\n",
    "https://learn.microsoft.com/ja-jp/azure/search/search-knowledge-source-overview"
   ]
  },
  {
   "cell_type": "code",
   "execution_count": null,
   "id": "cd37a419",
   "metadata": {
    "vscode": {
     "languageId": "plaintext"
    }
   },
   "outputs": [],
   "source": [
    "!pip install azure-search-documents==11.7.0b1"
   ]
  },
  {
   "cell_type": "code",
   "execution_count": null,
   "id": "c77f1460",
   "metadata": {},
   "outputs": [],
   "source": [
    "from azure.search.documents.indexes import SearchIndexClient\n",
    "from azure.core.credentials import AzureKeyCredential\n",
    "import os\n",
    "from dotenv import load_dotenv\n",
    "\n",
    "load_dotenv()"
   ]
  },
  {
   "cell_type": "code",
   "execution_count": null,
   "id": "3c8bc00a",
   "metadata": {},
   "outputs": [],
   "source": [
    "# 環境変数から設定を取得\n",
    "AZURE_OPENAI_ENDPOINT= os.getenv(\"AZURE_OPENAI_ENDPOINT\")\n",
    "AZURE_OPENAI_API_KEY= os.getenv(\"AZURE_OPENAI_API_KEY\")\n",
    "\n",
    "SEARCH_ENDPOINT = os.getenv(\"AZURE_SEARCH_ENDPOINT\")\n",
    "SEARCH_KEY = os.getenv(\"AZURE_SEARCH_KEY\")\n",
    "# OPENAI_ENDPOINT = os.getenv(\"OPENAI_ENDPOINT\")\n",
    "# OPENAI_KEY = os.getenv(\"OPENAI_KEY\")"
   ]
  },
  {
   "cell_type": "code",
   "execution_count": null,
   "id": "11d004b2",
   "metadata": {},
   "outputs": [],
   "source": [
    "search_api_version = \"2025-08-01-preview\"  # 11.7.0b1で使用される新しいAPIバージョン\n",
    "\n",
    "# SearchIndexClientの初期化\n",
    "search_client = SearchIndexClient(\n",
    "    endpoint=SEARCH_ENDPOINT,\n",
    "    credential=AzureKeyCredential(SEARCH_KEY),\n",
    "    api_version=search_api_version\n",
    ")"
   ]
  },
  {
   "cell_type": "markdown",
   "id": "84727c98",
   "metadata": {},
   "source": [
    "## Agentic retrieval の前提条件\n",
    "\n",
    "https://learn.microsoft.com/ja-jp/azure/search/search-agentic-retrieval-how-to-index#criteria-for-agentic-retrieval\n",
    "\n",
    "上記を参照して任意のインデックスを作成してください。\n",
    "\n",
    "### 参考データセット: busho-index\n",
    "https://github.com/nohanaga/busho-index\n",
    "\n",
    "戦国武将の Wikipedia ページ"
   ]
  },
  {
   "cell_type": "markdown",
   "id": "5787fc43",
   "metadata": {},
   "source": [
    "## 1. Create a knowledge source\n",
    "この手順では、以前に作成したインデックスを対象とするナレッジソースを作成します。次の手順では、ナレッジソースを使用してエージェント型検索を調整するナレッジエージェントを作成します。\n",
    "\n",
    "ナレッジ ソースは、エージェント検索用の追加のプロパティで検索インデックスをラップします。 ナレッジ エージェントで必要な定義です。 特定のナレッジ ソースを作成する方法に関するガイダンスを提供しますが、通常は次のことができます。\n",
    "\n",
    "- 検索サービスで最上位レベルのリソースとして複数のナレッジ ソースを作成します。\n",
    "\n",
    "- ナレッジ エージェント内の 1 つ以上のナレッジ ソースを参照します。 エージェント検索パイプラインでは、1 つの要求で複数のナレッジ ソースに対してクエリを実行できます。 サブクエリは、ナレッジ ソースごとに生成されます。 上位の結果が取得応答で返されます。\n",
    "\n",
    "    - `create_knowledge_source`: すでに存在している場合、`DuplicateKnowledgeSource` Error が発生します。\n",
    "    - `create_or_update_knowledge_source`: 新しいナレッジソースを作成するか、既存のナレッジソースを更新します。\n",
    "\n",
    "\n",
    "### ナレッジ ソースに関する重要なポイント\n",
    "- 作成パス: 最初にナレッジ ソースを作成してから、ナレッジ エージェントを作成します。 削除パス: ナレッジ エージェントを更新または削除し、ナレッジ ソースを最後に削除します。\n",
    "\n",
    "- ナレッジ ソース、そのインデックス、ナレッジ エージェントはすべて、同じ検索サービス上に存在する必要があります。\n",
    "\n",
    "- 各ナレッジ ソースは正確に 1 つのインデックスを指し、そのインデックスは エージェント検索の条件を満たす必要があります。\n",
    "\n",
    "- ナレッジ ソースごとに、ナレッジ エージェントはクエリ実行用の追加のプロパティを提供します。 `KnowledgeSourceReference` プロパティは 、クエリの計画に影響します。 `KnowledgeAgentOutputConfiguration` プロパティは、クエリ出力に影響します。\n",
    "\n",
    "\n",
    "\n",
    "\n",
    "https://learn.microsoft.com/ja-jp/azure/search/search-knowledge-source-overview"
   ]
  },
  {
   "cell_type": "code",
   "execution_count": null,
   "id": "d1bd3997",
   "metadata": {},
   "outputs": [],
   "source": [
    "from azure.search.documents.indexes.models import SearchIndexKnowledgeSource, SearchIndexKnowledgeSourceParameters\n",
    "\n",
    "index_name = \"Your-index\"  # 既存のインデックス名を指定\n",
    "knowledge_source_name = \"wikipedia-knowledge-source\"\n",
    "\n",
    "# Search Indexを知識ソースとして使用\n",
    "search_index_params = SearchIndexKnowledgeSourceParameters(\n",
    "    search_index_name=index_name  # 既存のインデックス名を指定,必須\n",
    "    # source_data_select=\"id,page_chunk,page_number\", #参照されるソースデータの追加フィールドを要求するために使用されます。\n",
    ")\n",
    "\n",
    "knowledge_source = SearchIndexKnowledgeSource(\n",
    "    name=knowledge_source_name,\n",
    "    search_index_parameters=search_index_params, #知識ソースのパラメータ。必須。\n",
    "    description=\"Wikipedia のナレッジソース\"\n",
    ")\n",
    "\n",
    "try:\n",
    "    # Knowledge Source の作成・アップデート\n",
    "    search_client.create_or_update_knowledge_source(knowledge_source=knowledge_source, api_version=search_api_version)\n",
    "    print(f\"Knowledge Source '{knowledge_source.name}' を作成しました\")\n",
    "\n",
    "    # Knowledge Source の作成のみ\n",
    "    # created_source = search_client.create_knowledge_source(knowledge_source)\n",
    "    # print(f\"Knowledge Source '{created_source.name}' を作成しました\")\n",
    "\n",
    "except Exception as e:\n",
    "    print(f\"Knowledge Source の作成中にエラーが発生しました: {e}\")\n",
    "    print(f\"エラーの種類: {type(e).__name__}\")\n"
   ]
  },
  {
   "cell_type": "markdown",
   "id": "7d757d15",
   "metadata": {},
   "source": [
    "### Get Knowledge Source"
   ]
  },
  {
   "cell_type": "code",
   "execution_count": null,
   "id": "b27cc538",
   "metadata": {},
   "outputs": [],
   "source": [
    "# Knowledge Sourceの取得\n",
    "retrieved_source = search_client.get_knowledge_source(knowledge_source_name)\n",
    "print(f\"取得したKnowledge Source: {retrieved_source.description}\")\n",
    "print(retrieved_source)"
   ]
  },
  {
   "cell_type": "markdown",
   "id": "db4bd5bf",
   "metadata": {},
   "source": [
    "### List Knowledge Source"
   ]
  },
  {
   "cell_type": "code",
   "execution_count": null,
   "id": "6e761c4d",
   "metadata": {},
   "outputs": [],
   "source": [
    "# Knowledge Sourceの一覧取得\n",
    "sources = search_client.list_knowledge_sources()\n",
    "sources_list = list(sources)\n",
    "print(f\"見つかったKnowledge Source数: {len(sources_list)}\")\n",
    "\n",
    "for source in sources_list:\n",
    "    print(f\"- {source.name}: {source.description}\")"
   ]
  },
  {
   "cell_type": "markdown",
   "id": "f54a433d",
   "metadata": {},
   "source": [
    "### Delete Knowledge Source\n",
    "Knowledge Source が Knowledge Agent にリンクされている場合、先に Knowledge Agent を削除する必要がある。"
   ]
  },
  {
   "cell_type": "code",
   "execution_count": null,
   "id": "6851b840",
   "metadata": {},
   "outputs": [],
   "source": [
    "# response = search_client.delete_knowledge_source(knowledge_source_name)\n",
    "# print(response)"
   ]
  },
  {
   "cell_type": "markdown",
   "id": "838b4d87",
   "metadata": {},
   "source": [
    "## 2. Create a knowledge agent\n",
    "このステップでは、ナレッジソースとLLMデプロイメントをラッパーとして扱うナレッジエージェントを作成します。\n",
    "\n",
    "Azure AI Search では、 ナレッジエージェントは、Agentic retrieval ワークロードで使用するチャット完了モデルへの接続を表す最上位レベルのリソースです。 ナレッジエージェントは、LLM を利用した情報取得パイプラインの `retrieve` メソッド によって使用されます。\n",
    "\n",
    "ナレッジ エージェントによって次のものが指定されます。\n",
    "\n",
    "- 検索可能なコンテンツを指すナレッジ ソース (1 つ以上)\n",
    "- クエリの計画と回答の定式化のための推論機能を提供するチャット完了モデル\n",
    "- パフォーマンス最適化のプロパティ (クエリ処理時間の制約)\n",
    "\n",
    "ナレッジ エージェントを作成した後は、いつでもそのプロパティを更新できます。ナレッジエージェントが使用中の場合、更新は次のジョブで有効になります。"
   ]
  },
  {
   "cell_type": "code",
   "execution_count": null,
   "id": "cbbb0d7f",
   "metadata": {},
   "outputs": [],
   "source": [
    "from azure.search.documents.indexes.models import (\n",
    "    KnowledgeAgent,\n",
    "    KnowledgeAgentAzureOpenAIModel,\n",
    "    KnowledgeSourceReference,\n",
    "    AzureOpenAIVectorizerParameters,\n",
    "    KnowledgeAgentOutputConfiguration,\n",
    "    KnowledgeAgentOutputConfigurationModality,\n",
    "    KnowledgeAgentRequestLimits\n",
    ")"
   ]
  },
  {
   "cell_type": "code",
   "execution_count": null,
   "id": "cca85855",
   "metadata": {},
   "outputs": [],
   "source": [
    "knowledge_agent_name = \"wikipedia-agent\"\n",
    "\n",
    "# 正しいAzure OpenAIモデルの設定\n",
    "openai_params = AzureOpenAIVectorizerParameters(\n",
    "    resource_url=AZURE_OPENAI_ENDPOINT,\n",
    "    deployment_name=\"gpt-4.1-mini\",            # サポートされているモデル名に変更\n",
    "    api_key=AZURE_OPENAI_API_KEY,        \n",
    "    model_name=\"gpt-4.1-mini\"\n",
    ")\n",
    "\n",
    "# Knowledge Agentモデルの設定\n",
    "agent_model = KnowledgeAgentAzureOpenAIModel(\n",
    "    azure_open_ai_parameters=openai_params\n",
    ")\n",
    "\n",
    "# Knowledge Sourceの参照\n",
    "knowledge_source_ref = KnowledgeSourceReference(\n",
    "    name=knowledge_source_name,\n",
    "    # reranker_threshold=2.5, #これをセットするとmodelQueryPlanningが走ります\n",
    "    # always_query_source=True,\n",
    "    # include_references=False,\n",
    "    # include_reference_source_data=False,\n",
    "    # max_sub_queries=3\n",
    ")\n",
    "\n",
    "# 出力設定\n",
    "# Answer synthesis (preview)\n",
    "output_config = KnowledgeAgentOutputConfiguration(\n",
    "    modality=KnowledgeAgentOutputConfigurationModality.ANSWER_SYNTHESIS,\n",
    "    # modality=KnowledgeAgentOutputConfigurationModality.EXTRACTIVE_DATA,\n",
    "    include_activity=True, # 検索結果にアクティビティ情報を含めるべきかを示します\n",
    "    attempt_fast_path=False, # 高速パスを試みる。エージェントがモデル呼び出しをバイパスし、最新のチャットメッセージをナレッジソースへの直接クエリとして発行を試みるべきかを示します。\n",
    "    # answer_instructions=\"\" #ナレッジエージェントが回答生成時に考慮する指示。\n",
    ")\n",
    "\n",
    "# リクエスト制限設定\n",
    "request_limits = KnowledgeAgentRequestLimits(\n",
    "    max_runtime_in_seconds=30,\n",
    "    max_output_size=5000 \n",
    ")\n",
    "\n",
    "# Knowledge Agentの作成\n",
    "agent = KnowledgeAgent(\n",
    "    name=knowledge_agent_name, \n",
    "    models=[agent_model],\n",
    "    knowledge_sources=[ knowledge_source_ref], #複数指定可\n",
    "    output_configuration=output_config,\n",
    "    request_limits=request_limits,\n",
    "    retrieval_instructions=\"質問に関する情報を検索し、適切な回答を提供してください。\",\n",
    "    description=\"このナレッジエージェントは、関連性のない複数のサンプルインデックスに向けられた質問を処理します。\"\n",
    ")\n",
    "\n",
    "# Knowledge Agentの作成・アップデート\n",
    "try:\n",
    "    created_agent = search_client.create_or_update_agent(agent)\n",
    "    print(f\"Knowledge Agent '{created_agent.name}' を作成しました\")\n",
    "except Exception as e:\n",
    "    print(f\"エラー: {e}\")"
   ]
  },
  {
   "cell_type": "markdown",
   "id": "81638acc",
   "metadata": {},
   "source": [
    "## 3. 新プロパティ解説\n",
    "今回複数の新プロパティが追加されました。**各プロパティはセットするクラスが異なるため注意**してください。\n",
    "\n",
    "### 3.1. Knowledge agents\n",
    "ナレッジエージェント定義のアーキテクチャ変更により、`targetIndexes` の代わりに1つ以上の `knowledge_sources` が必要となり、`defaultMaxDocsForReranker` は非推奨となりました。新しい `retrieval_instructions` および `output_configuration` プロパティにより、クエリ計画と実行の制御性が向上しました。\n",
    "\n",
    "https://learn.microsoft.com/ja-jp/azure/search/search-agentic-retrieval-how-to-create\n",
    "\n",
    "### 3.2. Answer synthesis（回答合成）\n",
    "既定では、Azure AI Search の ナレッジエージェントがデータ抽出を実行し、ナレッジソースから生のグラウンド チャンクを返します。データ抽出は特定の情報を取得するのに役立ちますが、複雑なクエリに必要なコンテキストと推論がありませんでした。\n",
    "\n",
    "エージェントを構成して 回答合成を実行できます。この合成では、**デプロイされたチャット完了モデルを使用して自然言語でクエリに回答**します。各回答には、取得したソースへの引用が含まれており、箇条書きの使用など、指定した指示に従います。\n",
    "\n",
    "- `ANSWER_SYNTHESIS`: LLM が応答用の回答を生成する\n",
    "- `EXTRACTIVE_DATA`: ナレッジソースから生成的な変更を加えずに直接データを返す。既存の機能。\n",
    "\n",
    "https://learn.microsoft.com/ja-jp/azure/search/search-agentic-retrieval-how-to-synthesize\n",
    "\n",
    "### 3.3. Retrieval Instructions（取得手順）\n",
    "\n",
    "複数のナレッジ ソースがある場合は、次のプロパティを設定して、クエリ計画を特定のナレッジソースに制限します。\n",
    "\n",
    "- `always_query_source`: クエリの計画に常に当該ナレッジソースが含まれます。既定値は `False`\n",
    "- `retrieval_instructions`: **回答にナレッジソースを含めたり除外したりする指示を自然言語で記述**します。例：「_質問に関する情報を検索し、適切な回答を提供してください。製品ついての問い合わせには、製品ナレッジソースのみを使用してください。それ以外の場合は、Wikipedia ナレッジソースをご利用ください。_」\n",
    "\n",
    "**`always_query_source` プロパティは、`retrieval_instructions` を上書きします。** 取得手順を指定するときは、必ず `always_query_source` を `False` に設定する必要があります。\n",
    "\n",
    "### 3.4. Include Activity, References, ReferenceSourceData\n",
    "検索結果の分析、チューニングに使えるデバッグ情報は以下を設定可能です。\n",
    "\n",
    "- クエリの実行と経過時間に関する分析情報を得るために、 `include_activity` を `True` (既定) に設定したままにします。（`KnowledgeAgentOutputConfiguration` クラス）\n",
    "\n",
    "- 個別にスコア付けされた各結果の詳細については、 `include_references` 設定を `True` (既定) に保持します。（`KnowledgeSourceReference` クラス）\n",
    "\n",
    "- インデックスの逐語的な内容が不要な場合は、 `include_reference_source_data` を `False` に設定します。 この情報を省略すると、応答が簡略化され、読みやすくなります。（`KnowledgeSourceReference` クラス）\n"
   ]
  },
  {
   "cell_type": "markdown",
   "id": "91e0954c",
   "metadata": {},
   "source": [
    "### Get Knowledge Agent"
   ]
  },
  {
   "cell_type": "code",
   "execution_count": null,
   "id": "c10216af",
   "metadata": {},
   "outputs": [],
   "source": [
    "agent = search_client.get_agent(knowledge_agent_name)\n",
    "agent.as_dict()"
   ]
  },
  {
   "cell_type": "markdown",
   "id": "f77122a8",
   "metadata": {},
   "source": [
    "### List Knowledge Agent"
   ]
  },
  {
   "cell_type": "code",
   "execution_count": null,
   "id": "6a7f7035",
   "metadata": {},
   "outputs": [],
   "source": [
    "agent = search_client.list_agents()\n",
    "for agent in agent:\n",
    "    print(f\"Knowledge agent '{agent.name}' \")\n"
   ]
  },
  {
   "cell_type": "markdown",
   "id": "f1fcc3d4",
   "metadata": {},
   "source": [
    "### Delete Knowledge Agent"
   ]
  },
  {
   "cell_type": "code",
   "execution_count": null,
   "id": "283ca5a2",
   "metadata": {},
   "outputs": [],
   "source": [
    "# response = search_client.delete_agent(knowledge_agent_name)\n",
    "# print(response)"
   ]
  },
  {
   "cell_type": "markdown",
   "id": "098f3d26",
   "metadata": {},
   "source": [
    "## Set up messages\n",
    "メッセージは検索ルートの入力となり、会話履歴を含みます。各メッセージには、システムやユーザーなど発信元を示す役割と、自然言語によるコンテンツが含まれます。使用するLLMによって有効な役割が決まります。"
   ]
  },
  {
   "cell_type": "code",
   "execution_count": null,
   "id": "ea2a4a88",
   "metadata": {},
   "outputs": [],
   "source": [
    "instructions = \"\"\"\n",
    "丁寧に質問に答えるQ&Aエージェント。\n",
    "答えがわからない場合は「わかりません」と応答してください。\n",
    "\"\"\"\n",
    "\n",
    "messages = [\n",
    "    {\n",
    "        \"role\": \"system\",\n",
    "        \"content\": instructions\n",
    "    }\n",
    "]"
   ]
  },
  {
   "cell_type": "markdown",
   "id": "accffdde",
   "metadata": {},
   "source": [
    "## エージェント型検索を用いて結果を取得する\n",
    "このステップでは、エージェント型検索パイプラインを実行し、根拠に基づき引用付きで裏付けられた回答を生成します。会話履歴と検索パラメータに基づき、ナレッジエージェントは以下の処理を行います：\n",
    "\n",
    "1. 会話全体を分析し、ユーザーの情報ニーズを推測します。\n",
    "1. 複合クエリを焦点化されたサブクエリに分解します。\n",
    "1. サブクエリを知識ソースに対して並行実行します。\n",
    "1. セマンティックランカーを用いて結果を再ランク付け・フィルタリングします。\n",
    "1. 上位結果を統合し、自然言語の回答を生成します。"
   ]
  },
  {
   "cell_type": "code",
   "execution_count": null,
   "id": "f8009222",
   "metadata": {},
   "outputs": [],
   "source": [
    "\n",
    "from azure.search.documents.agent import KnowledgeAgentRetrievalClient\n",
    "from azure.search.documents.agent.models import (\n",
    "    KnowledgeAgentRetrievalRequest,\n",
    "    KnowledgeAgentMessage,\n",
    "    KnowledgeAgentMessageTextContent,\n",
    "    SearchIndexKnowledgeSourceParams,\n",
    ")\n",
    "\n",
    "print(f\"Knowledge Agent: {knowledge_agent_name} から取得\")\n",
    "\n",
    "agent_client = KnowledgeAgentRetrievalClient(endpoint=SEARCH_ENDPOINT, agent_name=knowledge_agent_name, credential=AzureKeyCredential(SEARCH_KEY))\n",
    "query_1 = \"\"\"\n",
    "平清盛と平維盛の生誕地とそれぞれの功績を教えて\n",
    "\"\"\"\n",
    "\n",
    "messages.append({\n",
    "    \"role\": \"user\",\n",
    "    \"content\": query_1\n",
    "})\n",
    "\n",
    "req = KnowledgeAgentRetrievalRequest(\n",
    "    messages=[\n",
    "        KnowledgeAgentMessage(\n",
    "            role=m[\"role\"],\n",
    "            content=[KnowledgeAgentMessageTextContent(text=m[\"content\"])]\n",
    "        ) for m in messages if m[\"role\"] != \"system\"\n",
    "    ],\n",
    "    # knowledge_source_params=[\n",
    "    #     SearchIndexKnowledgeSourceParams(\n",
    "    #         knowledge_source_name=knowledge_source_name,\n",
    "    #         kind=\"searchIndex\"\n",
    "    #     )\n",
    "    # ]\n",
    ")\n",
    "\n",
    "result = agent_client.retrieve(retrieval_request=req, api_version=search_api_version)\n",
    "print(f\"Retrieved content from '{knowledge_source_name}' successfully.\")"
   ]
  },
  {
   "cell_type": "code",
   "execution_count": null,
   "id": "9f6814d1",
   "metadata": {},
   "outputs": [],
   "source": [
    "result.as_dict()"
   ]
  },
  {
   "cell_type": "markdown",
   "id": "8615c8b4",
   "metadata": {},
   "source": [
    "### 結果の分析\n",
    "ナレッジエージェントは回答合成用に設定されているため、検索応答には以下の値が含まれます。\n",
    "\n",
    "- `response_content`: 検索クエリに対する LLM 生成の回答（検索された文書を引用したもの）\n",
    "- `activity_content`: 詳細な計画と実行情報（サブクエリ、再順位付けの決定、中間ステップを含む）\n",
    "- `references_content`: 回答に貢献したソース文書とチャンク\n",
    "\n",
    "ヒント：リランキングのしきい値やナレッジソースのプロパティといった検索パラメータは、エージェントがどの程度積極的に再ランク付けを行い、どの情報源を照会するかに影響します。アクティビティと参照情報を確認し、根拠の妥当性を検証するとともに、追跡可能な引用を構築してください。"
   ]
  },
  {
   "cell_type": "code",
   "execution_count": null,
   "id": "2e532576",
   "metadata": {},
   "outputs": [],
   "source": [
    "response_contents = []\n",
    "activity_contents = []\n",
    "references_contents = []"
   ]
  },
  {
   "cell_type": "code",
   "execution_count": null,
   "id": "5ff3b3f2",
   "metadata": {},
   "outputs": [],
   "source": [
    "import json\n",
    "\n",
    "# response_content、activity_content、および references_content 用のシンプルな文字列値を構築する\n",
    "\n",
    "# Responses -> text/value フィールドを連結\n",
    "response_content = \"\\n\\n\".join([\n",
    "    text for resp in getattr(result, \"response\", [])\n",
    "    for content in getattr(resp, \"content\", [])\n",
    "    if (text := getattr(content, \"text\", None) or getattr(content, \"value\", None) or str(content))\n",
    "]) or \"No response found on 'result'\"\n",
    "\n",
    "response_contents.append(response_content)\n",
    "\n",
    "# Print the three string values\n",
    "print(\"response_content:\\n\", response_content, \"\\n\")"
   ]
  },
  {
   "cell_type": "code",
   "execution_count": null,
   "id": "49734058",
   "metadata": {},
   "outputs": [],
   "source": [
    "# Activity -> JSON string of activity as list of dicts\n",
    "activity_content = (\n",
    "    json.dumps([a.as_dict() for a in result.activity], indent=2, ensure_ascii=False)\n",
    "    if getattr(result, \"activity\", None) \n",
    "    else \"No activity found on 'result'\"\n",
    ")\n",
    "    \n",
    "activity_contents.append(activity_content)\n",
    "print(\"activity_content:\\n\", activity_content, \"\\n\")"
   ]
  },
  {
   "cell_type": "code",
   "execution_count": null,
   "id": "ec7b03f5",
   "metadata": {},
   "outputs": [],
   "source": [
    "# References -> JSON string of references as list of dicts\n",
    "if getattr(result, \"references\", None):\n",
    "    references_content = json.dumps([r.as_dict() for r in result.references], indent=2, ensure_ascii=False)\n",
    "else:\n",
    "    references_content = \"No references found on 'result'\"\n",
    "    \n",
    "references_contents.append(references_content)\n",
    "print(\"references_content:\\n\", references_content)"
   ]
  },
  {
   "cell_type": "markdown",
   "id": "756a7341",
   "metadata": {},
   "source": [
    "# Acknowledgment\n",
    "\n",
    "https://github.com/Azure-Samples/azure-search-python-samples/blob/main/Quickstart-Agentic-Retrieval/quickstart-agentic-retrieval.ipynb"
   ]
  }
 ],
 "metadata": {
  "kernelspec": {
   "display_name": "autogen061",
   "language": "python",
   "name": "python3"
  },
  "language_info": {
   "codemirror_mode": {
    "name": "ipython",
    "version": 3
   },
   "file_extension": ".py",
   "mimetype": "text/x-python",
   "name": "python",
   "nbconvert_exporter": "python",
   "pygments_lexer": "ipython3",
   "version": "3.11.13"
  }
 },
 "nbformat": 4,
 "nbformat_minor": 5
}
